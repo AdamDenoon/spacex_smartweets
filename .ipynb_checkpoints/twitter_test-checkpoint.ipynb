{
 "cells": [
  {
   "cell_type": "markdown",
   "metadata": {},
   "source": [
    "# Twitter Test"
   ]
  },
  {
   "cell_type": "code",
   "execution_count": 9,
   "metadata": {},
   "outputs": [],
   "source": [
    "import twitter, re, spacy, json, requests, time\n",
    "from datetime import datetime\n",
    "nlp = spacy.load('en')"
   ]
  },
  {
   "cell_type": "code",
   "execution_count": 11,
   "metadata": {},
   "outputs": [
    {
     "name": "stdout",
     "output_type": "stream",
     "text": [
      "@elonmusk\n",
      "Sun Apr 07 16:59:23 +0000 2019\n",
      "@austinbarnard45 You’re welcome. Thanks for your great photos!\n",
      "--------------------\n",
      "\n",
      "Sun Apr 07 05:55:46 +0000 2019\n",
      "Starhopper https://t.co/VRnAUPjWPt\n",
      "--------------------\n",
      "\n",
      "@bocachicagal\n"
     ]
    }
   ],
   "source": [
    "def parseTweet(tweetstring):\n",
    "    '''\n",
    "    Lemmatize and lowercase tweet text.\n",
    "    Returns a set of lemmas.\n",
    "    '''\n",
    "    return set(token.text.lower() for token in nlp(tweetstring))\n",
    "\n",
    "def formatTweetURL(user, status_id):\n",
    "    '''\n",
    "    Returns formatted URL for tweets.\n",
    "    '''\n",
    "    return f'https://twitter.com/{user}/status/{status_id}'\n",
    "\n",
    "# get authorization keys\n",
    "with open('keys.json', 'r') as infile:\n",
    "    keys = json.load(infile)\n",
    "    \n",
    "# instance Twitter-API\n",
    "api = twitter.Api(**keys['twitter'], tweet_mode='extended')\n",
    "\n",
    "# Tweet Triggers, Organized by \"domain\"\n",
    "starship = {'starship', 'hopper', \n",
    "            'starhopper', 'raptor', \n",
    "            'engine', 'tether', 'pad', 'rocket'}\n",
    "spacex = {'spacex', 'falcon', 'merlin', \n",
    "          'thrust', 'rocket', 'ton'}\n",
    "testing = {'test','road', 'close', 'open', 'shut',\n",
    "           'reopen', 'sheriff', 'vent', 'loud', \n",
    "           'sound', 'site', 'launch', 'hover', 'hop',\n",
    "           'roar', 'rumble', 'lit', 'flash', 'flare',\n",
    "           'explosion', 'explode', 'visible', 'shut',\n",
    "           'block', 'roadblock', 'notam', 'tfr', 'tfrs'}\n",
    "\n",
    "# People/tweets to track + their triggers\n",
    "people = {'@elonmusk':{'real_name':'Elon Musk',\n",
    "                       'triggers': starship|spacex},\n",
    "          '@bocachicagal':{'real_name':'Mary',\n",
    "                          'triggers': testing|starship|spacex\n",
    "                         }\n",
    "         }\n",
    "    \n",
    "def searchTweets():\n",
    "    '''\n",
    "    Runs the search process\n",
    "    and posts to Slack group.\n",
    "    '''\n",
    "\n",
    "    for person, userdat in people.items():\n",
    "\n",
    "        print(person)\n",
    "\n",
    "        for tweet in api.GetUserTimeline(screen_name=person, include_rts=False):\n",
    "\n",
    "            # skip tweets older than 1 min+\n",
    "            now = datetime.now()\n",
    "            tweet_time = datetime.strptime(tweet.created_at, '%a %b %d %H:%M:%S +0000 %Y')        \n",
    "            if (now-tweet_time).days > 1:\n",
    "                continue\n",
    "\n",
    "            # gather variables for condition evaluations\n",
    "            tweet_parsed = parseTweet(tweet.full_text)\n",
    "            try:\n",
    "                tweet_reply = api.GetStatus(tweet.in_reply_to_status_id).full_text if tweet.in_reply_to_status_id else ''\n",
    "                reply_to_parsed = parseTweet(tweet_reply)\n",
    "            except: # if reply is missing\n",
    "                reply_to_parsed = set()\n",
    "\n",
    "            # conditions go here and evaled; ANY complete, true condition triggers the bot\n",
    "            tweet_triggers = bool(tweet_parsed & userdat['triggers'])\n",
    "            reply_triggers = bool(reply_to_parsed & userdat['triggers']) # if thread is under valid trigger\n",
    "\n",
    "            # trigger a notification if match\n",
    "            if any([tweet_triggers, reply_triggers]):\n",
    "\n",
    "                print(tweet.created_at)\n",
    "                print(tweet.full_text)\n",
    "                print('-'*20)\n",
    "                print()\n",
    "\n",
    "                # format and post tweet\n",
    "                tweet_url = formatTweetURL(person, tweet.id_str)\n",
    "                requests.post(url=keys['slack']['webhook'], \n",
    "                              data=json.dumps({'text':tweet_url}))"
   ]
  },
  {
   "cell_type": "code",
   "execution_count": 202,
   "metadata": {},
   "outputs": [
    {
     "data": {
      "text/plain": [
       "<Response [200]>"
      ]
     },
     "execution_count": 202,
     "metadata": {},
     "output_type": "execute_result"
    }
   ],
   "source": [
    "requests.post(url=keys['slack']['webhook'], \n",
    "              data=json.dumps({'text':'🚧 THIS IS A TEST 🚧'}))"
   ]
  }
 ],
 "metadata": {
  "kernelspec": {
   "display_name": "Python 3",
   "language": "python",
   "name": "python3"
  },
  "language_info": {
   "codemirror_mode": {
    "name": "ipython",
    "version": 3
   },
   "file_extension": ".py",
   "mimetype": "text/x-python",
   "name": "python",
   "nbconvert_exporter": "python",
   "pygments_lexer": "ipython3",
   "version": "3.7.0"
  }
 },
 "nbformat": 4,
 "nbformat_minor": 2
}
